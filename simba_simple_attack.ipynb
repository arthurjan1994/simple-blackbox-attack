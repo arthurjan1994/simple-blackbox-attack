{
 "cells": [
  {
   "cell_type": "code",
   "execution_count": 1,
   "metadata": {},
   "outputs": [
    {
     "name": "stderr",
     "output_type": "stream",
     "text": [
      "/opt/anaconda3/lib/python3.7/site-packages/torchvision/transforms/transforms.py:208: UserWarning: The use of the transforms.Scale transform is deprecated, please use transforms.Resize instead.\n",
      "  warnings.warn(\"The use of the transforms.Scale transform is deprecated, \" +\n"
     ]
    }
   ],
   "source": [
    "import torch\n",
    "import utils\n",
    "\n",
    "def normalize(x):\n",
    "    return utils.apply_normalization(x, 'imagenet')\n",
    "\n",
    "def get_probs(model, x, y):\n",
    "    output = model(normalize(x.cuda())).cpu()\n",
    "    probs = torch.nn.Softmax()(output)[:, y]\n",
    "    return torch.diag(probs.data)\n",
    "\n",
    "# 20-line implementation of (untargeted) SimBA for single image input\n",
    "def simba_single(model, x, y, num_iters=10000, epsilon=0.2):\n",
    "    n_dims = x.view(1, -1).size(1)\n",
    "    perm = torch.randperm(n_dims)\n",
    "    last_prob = get_probs(model, x, y)\n",
    "    for i in range(num_iters):\n",
    "        diff = torch.zeros(n_dims)\n",
    "        diff[perm[i]] = epsilon\n",
    "        left_prob = get_probs(model, (x - diff.view(x.size())).clamp(0, 1), y)\n",
    "        if left_prob < last_prob:\n",
    "            x = (x - diff.view(x.size())).clamp(0, 1)\n",
    "            last_prob = left_prob\n",
    "        else:\n",
    "            right_prob = get_probs(model, (x + diff.view(x.size())).clamp(0, 1), y)\n",
    "            if right_prob < last_prob:\n",
    "                x = (x + diff.view(x.size())).clamp(0, 1)\n",
    "                last_prob = right_prob\n",
    "    return x"
   ]
  },
  {
   "cell_type": "code",
   "execution_count": null,
   "metadata": {},
   "outputs": [],
   "source": []
  }
 ],
 "metadata": {
  "kernelspec": {
   "display_name": "Python 3",
   "language": "python",
   "name": "python3"
  },
  "language_info": {
   "codemirror_mode": {
    "name": "ipython",
    "version": 3
   },
   "file_extension": ".py",
   "mimetype": "text/x-python",
   "name": "python",
   "nbconvert_exporter": "python",
   "pygments_lexer": "ipython3",
   "version": "3.7.3"
  }
 },
 "nbformat": 4,
 "nbformat_minor": 2
}
